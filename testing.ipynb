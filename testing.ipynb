{
  "cells": [
    {
      "cell_type": "code",
      "source": [
        "### Mount Notebook to Google Drive\n",
        "from google.colab import drive\n",
        "drive.mount('/content/drive')"
      ],
      "metadata": {
        "id": "PBYwvaQ2ttiY"
      },
      "execution_count": null,
      "outputs": [],
      "id": "PBYwvaQ2ttiY"
    },
    {
      "cell_type": "code",
      "source": [
        "# change the working directory to the Drive root\n",
        "%cd /content/drive/My\\ Drive/Colab\\ Notebooks"
      ],
      "metadata": {
        "id": "lZOijE5wttiY"
      },
      "execution_count": null,
      "outputs": [],
      "id": "lZOijE5wttiY"
    },
    {
      "cell_type": "code",
      "source": [
        "!pip install --quiet gradio\n",
        "!pip install --quiet requests\n",
        "!pip install --quiet langchain langchain-community langchain-core langchain-google-genai langchain-huggingface langchain-groq langchain-tavily langchain-chroma langgraph\n",
        "!pip install --quiet huggingface_hub\n",
        "!pip install --quiet supabase\n",
        "!pip install --quiet arxiv\n",
        "!pip install --quiet pymupdf\n",
        "!pip install --quiet wikipedia\n",
        "!pip install --quiet pgvector\n",
        "!pip install --quiet python-dotenv"
      ],
      "metadata": {
        "id": "pPbTxrCyttiY"
      },
      "execution_count": null,
      "outputs": [],
      "id": "pPbTxrCyttiY"
    },
    {
      "cell_type": "markdown",
      "id": "d0cc4adf",
      "metadata": {
        "id": "d0cc4adf"
      },
      "source": [
        "### Question data"
      ]
    },
    {
      "cell_type": "code",
      "execution_count": null,
      "id": "14e3f417",
      "metadata": {
        "id": "14e3f417"
      },
      "outputs": [],
      "source": [
        "# Load metadata.jsonl\n",
        "import json\n",
        "# Load the metadata.jsonl file\n",
        "with open('metadata.jsonl', 'r') as jsonl_file:\n",
        "    json_list = list(jsonl_file)\n",
        "\n",
        "json_QA = []\n",
        "for json_str in json_list:\n",
        "    json_data = json.loads(json_str)\n",
        "    json_QA.append(json_data)"
      ]
    },
    {
      "cell_type": "code",
      "execution_count": null,
      "id": "5e2da6fc",
      "metadata": {
        "id": "5e2da6fc"
      },
      "outputs": [],
      "source": [
        "# randomly select 3 samples\n",
        "# {\"task_id\": \"c61d22de-5f6c-4958-a7f6-5e9707bd3466\", \"Question\": \"A paper about AI regulation that was originally submitted to arXiv.org in June 2022 shows a figure with three axes, where each axis has a label word at both ends. Which of these words is used to describe a type of society in a Physics and Society article submitted to arXiv.org on August 11, 2016?\", \"Level\": 2, \"Final answer\": \"egalitarian\", \"file_name\": \"\", \"Annotator Metadata\": {\"Steps\": \"1. Go to arxiv.org and navigate to the Advanced Search page.\\n2. Enter \\\"AI regulation\\\" in the search box and select \\\"All fields\\\" from the dropdown.\\n3. Enter 2022-06-01 and 2022-07-01 into the date inputs, select \\\"Submission date (original)\\\", and submit the search.\\n4. Go through the search results to find the article that has a figure with three axes and labels on each end of the axes, titled \\\"Fairness in Agreement With European Values: An Interdisciplinary Perspective on AI Regulation\\\".\\n5. Note the six words used as labels: deontological, egalitarian, localized, standardized, utilitarian, and consequential.\\n6. Go back to arxiv.org\\n7. Find \\\"Physics and Society\\\" and go to the page for the \\\"Physics and Society\\\" category.\\n8. Note that the tag for this category is \\\"physics.soc-ph\\\".\\n9. Go to the Advanced Search page.\\n10. Enter \\\"physics.soc-ph\\\" in the search box and select \\\"All fields\\\" from the dropdown.\\n11. Enter 2016-08-11 and 2016-08-12 into the date inputs, select \\\"Submission date (original)\\\", and submit the search.\\n12. Search for instances of the six words in the results to find the paper titled \\\"Phase transition from egalitarian to hierarchical societies driven by competition between cognitive and social constraints\\\", indicating that \\\"egalitarian\\\" is the correct answer.\", \"Number of steps\": \"12\", \"How long did this take?\": \"8 minutes\", \"Tools\": \"1. Web browser\\n2. Image recognition tools (to identify and parse a figure with three axes)\", \"Number of tools\": \"2\"}}\n",
        "\n",
        "import random\n",
        "# random.seed(42)\n",
        "random_samples = random.sample(json_QA, 1)\n",
        "for sample in random_samples:\n",
        "    print(\"=\" * 50)\n",
        "    print(f\"Task ID: {sample['task_id']}\")\n",
        "    print(f\"Question: {sample['Question']}\")\n",
        "    print(f\"Level: {sample['Level']}\")\n",
        "    print(f\"Final Answer: {sample['Final answer']}\")\n",
        "    print(f\"Annotator Metadata: \")\n",
        "    print(f\"  ├── Steps: \")\n",
        "    for step in sample['Annotator Metadata']['Steps'].split('\\n'):\n",
        "        print(f\"  │      ├── {step}\")\n",
        "    print(f\"  ├── Number of steps: {sample['Annotator Metadata']['Number of steps']}\")\n",
        "    print(f\"  ├── How long did this take?: {sample['Annotator Metadata']['How long did this take?']}\")\n",
        "    print(f\"  ├── Tools:\")\n",
        "    for tool in sample['Annotator Metadata']['Tools'].split('\\n'):\n",
        "        print(f\"  │      ├── {tool}\")\n",
        "    print(f\"  └── Number of tools: {sample['Annotator Metadata']['Number of tools']}\")\n",
        "print(\"=\" * 50)"
      ]
    },
    {
      "cell_type": "code",
      "execution_count": null,
      "id": "4bb02420",
      "metadata": {
        "id": "4bb02420"
      },
      "outputs": [],
      "source": [
        "### build a vector database based on the metadata.jsonl\n",
        "# https://python.langchain.com/docs/integrations/vectorstores/supabase/\n",
        "import os\n",
        "from dotenv import load_dotenv\n",
        "from langchain_huggingface import HuggingFaceEmbeddings\n",
        "from langchain_community.vectorstores import SupabaseVectorStore\n",
        "from supabase.client import Client, create_client\n",
        "\n",
        "\n",
        "load_dotenv(override=True)\n",
        "embeddings = HuggingFaceEmbeddings(model_name=\"sentence-transformers/all-mpnet-base-v2\") #  dim=768\n",
        "\n",
        "supabase_url = os.environ.get(\"SUPABASE_URL\")\n",
        "supabase_key = os.environ.get(\"SUPABASE_SERVICE_KEY\")\n",
        "supabase: Client = create_client(supabase_url, supabase_key)"
      ]
    },
    {
      "cell_type": "code",
      "execution_count": null,
      "id": "a070b955",
      "metadata": {
        "id": "a070b955"
      },
      "outputs": [],
      "source": [
        "# wrap the metadata.jsonl's questions and answers into a list of document\n",
        "from langchain.schema import Document\n",
        "docs = []\n",
        "for sample in json_QA:\n",
        "    content = f\"Question : {sample['Question']}\\n\\nFinal answer : {sample['Final answer']}\"\n",
        "    doc = {\n",
        "        \"content\" : content,\n",
        "        \"metadata\" : {\n",
        "            \"source\" : sample['task_id']\n",
        "        },\n",
        "        \"embedding\" : embeddings.embed_query(content),\n",
        "    }\n",
        "    docs.append(doc)"
      ]
    },
    {
      "cell_type": "markdown",
      "source": [
        "you have created a match_documents function in your database\n",
        "you have a documents table in your public schema similar to the one below.\n",
        "\n",
        "\n",
        "```PostgreSQL\n",
        "-- Enable the pgvector extension to work with embedding vectors\n",
        "create extension if not exists vector;\n",
        "\n",
        "-- Create a table to store your documents\n",
        "create table\n",
        "  documents (\n",
        "    id int8,\n",
        "    content text, -- corresponds to Document.pageContent\n",
        "    metadata jsonb, -- corresponds to Document.metadata\n",
        "    embedding vector\n",
        "  );\n",
        "```"
      ],
      "metadata": {
        "id": "vD1wPxJSJQvX"
      },
      "id": "vD1wPxJSJQvX"
    },
    {
      "cell_type": "code",
      "source": [
        "# upload the documents to the vector database(you need to set up a documents table in the supabase first!)\n",
        "try:\n",
        "    response = (\n",
        "        supabase.table(\"documents\")\n",
        "        .insert(docs)\n",
        "        .execute()\n",
        "    )\n",
        "except Exception as exception:\n",
        "    print(\"Error inserting data into Supabase:\", exception)"
      ],
      "metadata": {
        "id": "S1IZetE94yww"
      },
      "id": "S1IZetE94yww",
      "execution_count": null,
      "outputs": []
    },
    {
      "cell_type": "code",
      "source": [
        "# ALTERNATIVE : Save the documents (a list of dict) into a csv file, and manually upload it to Supabase\n",
        "import pandas as pd\n",
        "df = pd.DataFrame(docs)\n",
        "df.to_csv('supabase_docs.csv', index=False)"
      ],
      "metadata": {
        "id": "aJZMi05V41MH"
      },
      "id": "aJZMi05V41MH",
      "execution_count": null,
      "outputs": []
    },
    {
      "cell_type": "code",
      "execution_count": null,
      "id": "77fb9dbb",
      "metadata": {
        "id": "77fb9dbb"
      },
      "outputs": [],
      "source": [
        "# add items to vector database\n",
        "vector_store = SupabaseVectorStore(\n",
        "    client=supabase,\n",
        "    embedding= embeddings,\n",
        "    table_name=\"documents\",\n",
        "    query_name=\"match_documents_langchain\",\n",
        ")\n",
        "retriever = vector_store.as_retriever()"
      ]
    },
    {
      "cell_type": "markdown",
      "source": [
        "```PostgreSQL\n",
        "-- Create a function to search for documents\n",
        "\n",
        "CREATE OR REPLACE FUNCTION match_documents_langchain(query_embedding vector)\n",
        "RETURNS TABLE (\n",
        "    id int8,\n",
        "    content text,\n",
        "    metadata jsonb,\n",
        "    similarity double precision\n",
        ") AS $$\n",
        "BEGIN\n",
        "    RETURN QUERY\n",
        "    SELECT\n",
        "        documents.id, -- Explicitly qualify the column with the table name\n",
        "        documents.content,\n",
        "        documents.metadata,\n",
        "        (documents.embedding <=> query_embedding) AS similarity\n",
        "    FROM documents\n",
        "    ORDER BY similarity ASC\n",
        "    LIMIT 1; -- Adjust the limit as needed\n",
        "END;\n",
        "$$ LANGUAGE plpgsql;\n",
        "```"
      ],
      "metadata": {
        "id": "r4zK-rj8JH3q"
      },
      "id": "r4zK-rj8JH3q"
    },
    {
      "cell_type": "code",
      "execution_count": null,
      "id": "12a05971",
      "metadata": {
        "id": "12a05971"
      },
      "outputs": [],
      "source": [
        "query = \"On June 6, 2023, an article by Carolyn Collins Petersen was published in Universe Today. This article mentions a team that produced a paper about their observations, linked at the bottom of the article. Find this paper. Under what NASA award number was the work performed by R. G. Arendt supported by?\"\n",
        "#matched_docs = vector_store.similarity_search(query, 2)\n",
        "docs = retriever.invoke(query)\n",
        "docs[0]"
      ]
    },
    {
      "cell_type": "code",
      "execution_count": null,
      "id": "1eae5ba4",
      "metadata": {
        "id": "1eae5ba4"
      },
      "outputs": [],
      "source": [
        "# list of the tools used in all the samples\n",
        "from collections import Counter, OrderedDict\n",
        "\n",
        "tools = []\n",
        "for sample in json_QA:\n",
        "    for tool in sample['Annotator Metadata']['Tools'].split('\\n'):\n",
        "        tool = tool[2:].strip().lower()\n",
        "        if tool.startswith(\"(\"):\n",
        "            tool = tool[11:].strip()\n",
        "        tools.append(tool)\n",
        "tools_counter = OrderedDict(Counter(tools))\n",
        "print(\"List of tools used in all samples:\")\n",
        "print(\"Total number of tools used:\", len(tools_counter))\n",
        "for tool, count in tools_counter.items():\n",
        "    print(f\"  ├── {tool}: {count}\")"
      ]
    },
    {
      "cell_type": "markdown",
      "id": "5efee12a",
      "metadata": {
        "id": "5efee12a"
      },
      "source": [
        "#### Graph"
      ]
    },
    {
      "cell_type": "code",
      "execution_count": null,
      "id": "7fe573cc",
      "metadata": {
        "id": "7fe573cc"
      },
      "outputs": [],
      "source": [
        "system_prompt = \"\"\"\n",
        "You are a helpful assistant tasked with answering questions using a set of tools.\n",
        "If the tool is not available, you can try to find the information online. You can also use your own knowledge to answer the question.\n",
        "You need to provide a step-by-step explanation of how you arrived at the answer.\n",
        "==========================\n",
        "Here is a few examples showing you how to answer the question step by step.\n",
        "\"\"\"\n",
        "for i, samples in enumerate(random_samples):\n",
        "    system_prompt += f\"\\nQuestion {i+1}: {samples['Question']}\\nSteps:\\n{samples['Annotator Metadata']['Steps']}\\nTools:\\n{samples['Annotator Metadata']['Tools']}\\nFinal Answer: {samples['Final answer']}\\n\"\n",
        "system_prompt += \"\\n==========================\\n\"\n",
        "system_prompt += \"Now, please answer the following question step by step.\\n\"\n",
        "\n",
        "# save the system_prompt to a file\n",
        "with open('system_prompt.txt', 'w') as f:\n",
        "    f.write(system_prompt)"
      ]
    },
    {
      "cell_type": "code",
      "execution_count": null,
      "id": "d6beb0da",
      "metadata": {
        "id": "d6beb0da"
      },
      "outputs": [],
      "source": [
        "# load the system prompt from the file\n",
        "with open('system_prompt.txt', 'r') as f:\n",
        "    system_prompt = f.read()\n",
        "print(system_prompt)"
      ]
    },
    {
      "cell_type": "code",
      "execution_count": null,
      "id": "42fde0f8",
      "metadata": {
        "id": "42fde0f8"
      },
      "outputs": [],
      "source": [
        "import dotenv\n",
        "from langgraph.graph import MessagesState, START, StateGraph\n",
        "from langgraph.prebuilt import tools_condition\n",
        "from langgraph.prebuilt import ToolNode\n",
        "from langchain_google_genai import ChatGoogleGenerativeAI\n",
        "from langchain_huggingface import HuggingFaceEmbeddings\n",
        "from langchain_community.tools.tavily_search import TavilySearchResults\n",
        "from langchain_community.document_loaders import WikipediaLoader\n",
        "from langchain_community.document_loaders import ArxivLoader\n",
        "from langchain_community.vectorstores import SupabaseVectorStore\n",
        "from langchain.tools.retriever import create_retriever_tool\n",
        "from langchain_core.messages import HumanMessage, SystemMessage\n",
        "from langchain_core.tools import tool\n",
        "from supabase.client import Client, create_client\n",
        "\n",
        "# Define the retriever from supabase\n",
        "load_dotenv()\n",
        "embeddings = HuggingFaceEmbeddings(model_name=\"sentence-transformers/all-mpnet-base-v2\") #  dim=768\n",
        "\n",
        "supabase_url = os.environ.get(\"SUPABASE_URL\")\n",
        "supabase_key = os.environ.get(\"SUPABASE_SERVICE_KEY\")\n",
        "supabase: Client = create_client(supabase_url, supabase_key)\n",
        "vector_store = SupabaseVectorStore(\n",
        "    client=supabase,\n",
        "    embedding= embeddings,\n",
        "    table_name=\"documents\",\n",
        "    query_name=\"match_documents_langchain\",\n",
        ")\n",
        "\n",
        "retrieve_tool = create_retriever_tool(\n",
        "    vector_store.as_retriever(),\n",
        "    \"Question Retriever\",\n",
        "    \"Find similar questions in the vector database for the given question.\",\n",
        ")\n",
        "\n",
        "@tool\n",
        "def multiply(a: int, b: int) -> int:\n",
        "    \"\"\"Multiply two numbers.\n",
        "\n",
        "    Args:\n",
        "        a: first int\n",
        "        b: second int\n",
        "    \"\"\"\n",
        "    return a * b\n",
        "\n",
        "@tool\n",
        "def add(a: int, b: int) -> int:\n",
        "    \"\"\"Add two numbers.\n",
        "\n",
        "    Args:\n",
        "        a: first int\n",
        "        b: second int\n",
        "    \"\"\"\n",
        "    return a + b\n",
        "\n",
        "@tool\n",
        "def subtract(a: int, b: int) -> int:\n",
        "    \"\"\"Subtract two numbers.\n",
        "\n",
        "    Args:\n",
        "        a: first int\n",
        "        b: second int\n",
        "    \"\"\"\n",
        "    return a - b\n",
        "\n",
        "@tool\n",
        "def divide(a: int, b: int) -> int:\n",
        "    \"\"\"Divide two numbers.\n",
        "\n",
        "    Args:\n",
        "        a: first int\n",
        "        b: second int\n",
        "    \"\"\"\n",
        "    if b == 0:\n",
        "        raise ValueError(\"Cannot divide by zero.\")\n",
        "    return a / b\n",
        "\n",
        "@tool\n",
        "def modulus(a: int, b: int) -> int:\n",
        "    \"\"\"Get the modulus of two numbers.\n",
        "\n",
        "    Args:\n",
        "        a: first int\n",
        "        b: second int\n",
        "    \"\"\"\n",
        "    return a % b\n",
        "\n",
        "@tool\n",
        "def wiki_search(query: str) -> str:\n",
        "    \"\"\"Search Wikipedia for a query and return maximum 2 results.\n",
        "\n",
        "    Args:\n",
        "        query: The search query.\"\"\"\n",
        "    search_docs = WikipediaLoader(query=query, load_max_docs=2).load()\n",
        "    formatted_search_docs = \"\\n\\n---\\n\\n\".join(\n",
        "        [\n",
        "            f'<Document source=\"{doc.metadata[\"source\"]}\" page=\"{doc.metadata.get(\"page\", \"\")}\"/>\\n{doc.page_content}\\n</Document>'\n",
        "            for doc in search_docs\n",
        "        ])\n",
        "    return {\"wiki_results\": formatted_search_docs}\n",
        "\n",
        "@tool\n",
        "def web_search(query: str) -> str:\n",
        "    \"\"\"Search Tavily for a query and return maximum 3 results.\n",
        "\n",
        "    Args:\n",
        "        query: The search query.\"\"\"\n",
        "    search_docs = TavilySearchResults(max_results=3).invoke(query=query)\n",
        "    formatted_search_docs = \"\\n\\n---\\n\\n\".join(\n",
        "        [\n",
        "            f'<Document source=\"{doc.metadata[\"source\"]}\" page=\"{doc.metadata.get(\"page\", \"\")}\"/>\\n{doc.page_content}\\n</Document>'\n",
        "            for doc in search_docs\n",
        "        ])\n",
        "    return {\"web_results\": formatted_search_docs}\n",
        "\n",
        "@tool\n",
        "def arvix_search(query: str) -> str:\n",
        "    \"\"\"Search Arxiv for a query and return maximum 3 result.\n",
        "\n",
        "    Args:\n",
        "        query: The search query.\"\"\"\n",
        "    search_docs = ArxivLoader(query=query, load_max_docs=3).load()\n",
        "    formatted_search_docs = \"\\n\\n---\\n\\n\".join(\n",
        "        [\n",
        "            f'<Document source=\"{doc.metadata[\"source\"]}\" page=\"{doc.metadata.get(\"page\", \"\")}\"/>\\n{doc.page_content[:1000]}\\n</Document>'\n",
        "            for doc in search_docs\n",
        "        ])\n",
        "    return {\"arvix_results\": formatted_search_docs}\n",
        "\n",
        "@tool\n",
        "def similar_search(question: str) -> str:\n",
        "    \"\"\"Search the vector database for similar questions and return the first results.\n",
        "\n",
        "    Args:\n",
        "        question: the question human provided.\"\"\"\n",
        "    matched_docs = vector_store.similarity_search(query, 3)\n",
        "    formatted_search_docs = \"\\n\\n---\\n\\n\".join(\n",
        "        [\n",
        "            f'<Document source=\"{doc.metadata[\"source\"]}\" page=\"{doc.metadata.get(\"page\", \"\")}\"/>\\n{doc.page_content[:1000]}\\n</Document>'\n",
        "            for doc in matched_docs\n",
        "        ])\n",
        "    return {\"similar_questions\": formatted_search_docs}\n",
        "\n",
        "tools = [\n",
        "    multiply,\n",
        "    add,\n",
        "    subtract,\n",
        "    divide,\n",
        "    modulus,\n",
        "    wiki_search,\n",
        "    web_search,\n",
        "    arvix_search,\n",
        "    similar_search,\n",
        "    #retrieve_tool\n",
        "]\n",
        "\n",
        "llm = ChatGoogleGenerativeAI(model=\"gemini-2.0-flash\")\n",
        "llm_with_tools = llm.bind_tools(tools)"
      ]
    },
    {
      "cell_type": "code",
      "execution_count": null,
      "id": "7dd0716c",
      "metadata": {
        "id": "7dd0716c"
      },
      "outputs": [],
      "source": [
        "# load the system prompt from the file\n",
        "with open('system_prompt.txt', 'r') as f:\n",
        "    system_prompt = f.read()\n",
        "\n",
        "\n",
        "# System message\n",
        "sys_msg = SystemMessage(content=system_prompt)\n",
        "\n",
        "# Node\n",
        "def assistant(state: MessagesState):\n",
        "    \"\"\"Assistant node\"\"\"\n",
        "    return {\"messages\": [llm_with_tools.invoke([sys_msg] + state[\"messages\"])]}\n",
        "\n",
        "# Build graph\n",
        "builder = StateGraph(MessagesState)\n",
        "builder.add_node(\"assistant\", assistant)\n",
        "builder.add_node(\"tools\", ToolNode(tools))\n",
        "builder.add_edge(START, \"assistant\")\n",
        "builder.add_conditional_edges(\n",
        "    \"assistant\",\n",
        "    # If the latest message (result) from assistant is a tool call -> tools_condition routes to tools\n",
        "    # If the latest message (result) from assistant is a not a tool call -> tools_condition routes to END\n",
        "    tools_condition,\n",
        ")\n",
        "builder.add_edge(\"tools\", \"assistant\")\n",
        "\n",
        "# Compile graph\n",
        "graph = builder.compile()\n"
      ]
    },
    {
      "cell_type": "code",
      "execution_count": null,
      "id": "f4e77216",
      "metadata": {
        "id": "f4e77216"
      },
      "outputs": [],
      "source": [
        "from IPython.display import Image, display\n",
        "\n",
        "display(Image(graph.get_graph(xray=True).draw_mermaid_png()))"
      ]
    },
    {
      "cell_type": "code",
      "execution_count": null,
      "id": "5987d58c",
      "metadata": {
        "id": "5987d58c"
      },
      "outputs": [],
      "source": [
        "question = \"What is your name?\"\n",
        "messages = [HumanMessage(content=question)]\n",
        "messages = graph.invoke({\"messages\": messages})"
      ]
    },
    {
      "cell_type": "code",
      "execution_count": null,
      "id": "330cbf17",
      "metadata": {
        "id": "330cbf17"
      },
      "outputs": [],
      "source": [
        "for m in messages['messages']:\n",
        "    m.pretty_print()"
      ]
    }
  ],
  "metadata": {
    "kernelspec": {
      "display_name": "aiagent",
      "language": "python",
      "name": "python3"
    },
    "language_info": {
      "codemirror_mode": {
        "name": "ipython",
        "version": 3
      },
      "file_extension": ".py",
      "mimetype": "text/x-python",
      "name": "python",
      "nbconvert_exporter": "python",
      "pygments_lexer": "ipython3",
      "version": "3.12.9"
    },
    "colab": {
      "provenance": []
    }
  },
  "nbformat": 4,
  "nbformat_minor": 5
}